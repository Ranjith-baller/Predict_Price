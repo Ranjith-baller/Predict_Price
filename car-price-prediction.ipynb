{
 "cells": [
  {
   "cell_type": "markdown",
   "metadata": {
    "papermill": {
     "duration": 0.033504,
     "end_time": "2021-08-23T13:41:07.983385",
     "exception": false,
     "start_time": "2021-08-23T13:41:07.949881",
     "status": "completed"
    },
    "tags": []
   },
   "source": [
    "# Description\n",
    "\n",
    "This dataset contains information about used cars listed on www.cardekho.com\n",
    "This data can be used for a lot of purposes such as price prediction to exemplify the use of linear regression in Machine Learning.\n",
    "The columns in the given dataset are as follows:\n",
    "\n",
    "    name\n",
    "    year\n",
    "    selling_price\n",
    "    km_driven\n",
    "    fuel\n",
    "    seller_type\n",
    "    transmission\n",
    "    Owner\n",
    "\n",
    "For used motorcycle datasets please go to https://www.kaggle.com/nehalbirla/motorcycle-dataset"
   ]
  },
  {
   "cell_type": "markdown",
   "metadata": {
    "papermill": {
     "duration": 0.031739,
     "end_time": "2021-08-23T13:41:08.047923",
     "exception": false,
     "start_time": "2021-08-23T13:41:08.016184",
     "status": "completed"
    },
    "tags": []
   },
   "source": [
    "# Steps Involved:\n",
    "\n",
    "\n",
    "- [Reading and Understanding the Dataset](#1)\n",
    "- [Data Preporcessing](#2)\n",
    "- [Exploratory Data Analysis (EDA)](#3)\n",
    "    - [Univariate Analysis](#3_a)\n",
    "    - [Bivariate/Multi-Variate Analysis](#3_b)\n",
    "- [Data Preparation ](#4)\n",
    "    - [Creating dummies for categorical features](#4_a)\n",
    "    - [Performing Train-Test split](#4_b)\n",
    "- [Model Creation/Evaluation](#5)\n",
    "- [Conclusion](#6)"
   ]
  },
  {
   "cell_type": "markdown",
   "metadata": {
    "papermill": {
     "duration": 0.03222,
     "end_time": "2021-08-23T13:41:08.111891",
     "exception": false,
     "start_time": "2021-08-23T13:41:08.079671",
     "status": "completed"
    },
    "tags": []
   },
   "source": [
    "<a id='1'></a>\n",
    "# 1. Reading and Understanding the Dataset"
   ]
  },
  {
   "cell_type": "code",
   "execution_count": 1,
   "metadata": {
    "execution": {
     "iopub.execute_input": "2021-08-23T13:41:08.183731Z",
     "iopub.status.busy": "2021-08-23T13:41:08.183115Z",
     "iopub.status.idle": "2021-08-23T13:41:09.096475Z",
     "shell.execute_reply": "2021-08-23T13:41:09.097004Z",
     "shell.execute_reply.started": "2021-08-23T12:20:18.748940Z"
    },
    "papermill": {
     "duration": 0.953276,
     "end_time": "2021-08-23T13:41:09.097193",
     "exception": false,
     "start_time": "2021-08-23T13:41:08.143917",
     "status": "completed"
    },
    "tags": []
   },
   "outputs": [],
   "source": [
    "# Importing prerequisites\n",
    "import pandas as pd\n",
    "import numpy as np\n",
    "import matplotlib.pyplot as plt\n",
    "import seaborn as sns\n",
    "import os\n",
    "import warnings\n",
    "\n",
    "%matplotlib inline\n",
    "pd.set_option(\"display.max_rows\", None,\"display.max_columns\", None)\n",
    "warnings.simplefilter(action='ignore')\n",
    "plt.style.use('seaborn')"
   ]
  },
  {
   "cell_type": "code",
   "execution_count": 2,
   "metadata": {
    "execution": {
     "iopub.execute_input": "2021-08-23T13:41:09.167325Z",
     "iopub.status.busy": "2021-08-23T13:41:09.166423Z",
     "iopub.status.idle": "2021-08-23T13:41:09.186482Z",
     "shell.execute_reply": "2021-08-23T13:41:09.186916Z",
     "shell.execute_reply.started": "2021-08-23T12:20:22.656441Z"
    },
    "papermill": {
     "duration": 0.056351,
     "end_time": "2021-08-23T13:41:09.187067",
     "exception": false,
     "start_time": "2021-08-23T13:41:09.130716",
     "status": "completed"
    },
    "tags": []
   },
   "outputs": [],
   "source": [
    "# Reading cat data.csv\n",
    "df_main = pd.read_csv('../input/vehicle-dataset-from-cardekho/car data.csv')"
   ]
  },
  {
   "cell_type": "code",
   "execution_count": 3,
   "metadata": {
    "execution": {
     "iopub.execute_input": "2021-08-23T13:41:09.256840Z",
     "iopub.status.busy": "2021-08-23T13:41:09.255922Z",
     "iopub.status.idle": "2021-08-23T13:41:09.278849Z",
     "shell.execute_reply": "2021-08-23T13:41:09.279249Z",
     "shell.execute_reply.started": "2021-08-23T12:20:27.731709Z"
    },
    "papermill": {
     "duration": 0.058285,
     "end_time": "2021-08-23T13:41:09.279411",
     "exception": false,
     "start_time": "2021-08-23T13:41:09.221126",
     "status": "completed"
    },
    "tags": []
   },
   "outputs": [
    {
     "data": {
      "text/html": [
       "<div>\n",
       "<style scoped>\n",
       "    .dataframe tbody tr th:only-of-type {\n",
       "        vertical-align: middle;\n",
       "    }\n",
       "\n",
       "    .dataframe tbody tr th {\n",
       "        vertical-align: top;\n",
       "    }\n",
       "\n",
       "    .dataframe thead th {\n",
       "        text-align: right;\n",
       "    }\n",
       "</style>\n",
       "<table border=\"1\" class=\"dataframe\">\n",
       "  <thead>\n",
       "    <tr style=\"text-align: right;\">\n",
       "      <th></th>\n",
       "      <th>Car_Name</th>\n",
       "      <th>Year</th>\n",
       "      <th>Selling_Price</th>\n",
       "      <th>Present_Price</th>\n",
       "      <th>Kms_Driven</th>\n",
       "      <th>Fuel_Type</th>\n",
       "      <th>Seller_Type</th>\n",
       "      <th>Transmission</th>\n",
       "      <th>Owner</th>\n",
       "    </tr>\n",
       "  </thead>\n",
       "  <tbody>\n",
       "    <tr>\n",
       "      <th>0</th>\n",
       "      <td>ritz</td>\n",
       "      <td>2014</td>\n",
       "      <td>3.35</td>\n",
       "      <td>5.59</td>\n",
       "      <td>27000</td>\n",
       "      <td>Petrol</td>\n",
       "      <td>Dealer</td>\n",
       "      <td>Manual</td>\n",
       "      <td>0</td>\n",
       "    </tr>\n",
       "    <tr>\n",
       "      <th>1</th>\n",
       "      <td>sx4</td>\n",
       "      <td>2013</td>\n",
       "      <td>4.75</td>\n",
       "      <td>9.54</td>\n",
       "      <td>43000</td>\n",
       "      <td>Diesel</td>\n",
       "      <td>Dealer</td>\n",
       "      <td>Manual</td>\n",
       "      <td>0</td>\n",
       "    </tr>\n",
       "    <tr>\n",
       "      <th>2</th>\n",
       "      <td>ciaz</td>\n",
       "      <td>2017</td>\n",
       "      <td>7.25</td>\n",
       "      <td>9.85</td>\n",
       "      <td>6900</td>\n",
       "      <td>Petrol</td>\n",
       "      <td>Dealer</td>\n",
       "      <td>Manual</td>\n",
       "      <td>0</td>\n",
       "    </tr>\n",
       "    <tr>\n",
       "      <th>3</th>\n",
       "      <td>wagon r</td>\n",
       "      <td>2011</td>\n",
       "      <td>2.85</td>\n",
       "      <td>4.15</td>\n",
       "      <td>5200</td>\n",
       "      <td>Petrol</td>\n",
       "      <td>Dealer</td>\n",
       "      <td>Manual</td>\n",
       "      <td>0</td>\n",
       "    </tr>\n",
       "    <tr>\n",
       "      <th>4</th>\n",
       "      <td>swift</td>\n",
       "      <td>2014</td>\n",
       "      <td>4.60</td>\n",
       "      <td>6.87</td>\n",
       "      <td>42450</td>\n",
       "      <td>Diesel</td>\n",
       "      <td>Dealer</td>\n",
       "      <td>Manual</td>\n",
       "      <td>0</td>\n",
       "    </tr>\n",
       "  </tbody>\n",
       "</table>\n",
       "</div>"
      ],
      "text/plain": [
       "  Car_Name  Year  Selling_Price  Present_Price  Kms_Driven Fuel_Type  \\\n",
       "0     ritz  2014           3.35           5.59       27000    Petrol   \n",
       "1      sx4  2013           4.75           9.54       43000    Diesel   \n",
       "2     ciaz  2017           7.25           9.85        6900    Petrol   \n",
       "3  wagon r  2011           2.85           4.15        5200    Petrol   \n",
       "4    swift  2014           4.60           6.87       42450    Diesel   \n",
       "\n",
       "  Seller_Type Transmission  Owner  \n",
       "0      Dealer       Manual      0  \n",
       "1      Dealer       Manual      0  \n",
       "2      Dealer       Manual      0  \n",
       "3      Dealer       Manual      0  \n",
       "4      Dealer       Manual      0  "
      ]
     },
     "execution_count": 3,
     "metadata": {},
     "output_type": "execute_result"
    }
   ],
   "source": [
    "df_main.head()"
   ]
  },
  {
   "cell_type": "code",
   "execution_count": 4,
   "metadata": {
    "execution": {
     "iopub.execute_input": "2021-08-23T13:41:09.350315Z",
     "iopub.status.busy": "2021-08-23T13:41:09.349712Z",
     "iopub.status.idle": "2021-08-23T13:41:09.352408Z",
     "shell.execute_reply": "2021-08-23T13:41:09.352922Z",
     "shell.execute_reply.started": "2021-08-23T12:20:31.927224Z"
    },
    "papermill": {
     "duration": 0.040701,
     "end_time": "2021-08-23T13:41:09.353061",
     "exception": false,
     "start_time": "2021-08-23T13:41:09.312360",
     "status": "completed"
    },
    "tags": []
   },
   "outputs": [
    {
     "data": {
      "text/plain": [
       "(301, 9)"
      ]
     },
     "execution_count": 4,
     "metadata": {},
     "output_type": "execute_result"
    }
   ],
   "source": [
    "df_main.shape"
   ]
  },
  {
   "cell_type": "code",
   "execution_count": 5,
   "metadata": {
    "execution": {
     "iopub.execute_input": "2021-08-23T13:41:09.422810Z",
     "iopub.status.busy": "2021-08-23T13:41:09.422185Z",
     "iopub.status.idle": "2021-08-23T13:41:09.434811Z",
     "shell.execute_reply": "2021-08-23T13:41:09.435244Z",
     "shell.execute_reply.started": "2021-08-23T12:20:33.963912Z"
    },
    "papermill": {
     "duration": 0.048723,
     "end_time": "2021-08-23T13:41:09.435402",
     "exception": false,
     "start_time": "2021-08-23T13:41:09.386679",
     "status": "completed"
    },
    "tags": []
   },
   "outputs": [
    {
     "name": "stdout",
     "output_type": "stream",
     "text": [
      "<class 'pandas.core.frame.DataFrame'>\n",
      "RangeIndex: 301 entries, 0 to 300\n",
      "Data columns (total 9 columns):\n",
      " #   Column         Non-Null Count  Dtype  \n",
      "---  ------         --------------  -----  \n",
      " 0   Car_Name       301 non-null    object \n",
      " 1   Year           301 non-null    int64  \n",
      " 2   Selling_Price  301 non-null    float64\n",
      " 3   Present_Price  301 non-null    float64\n",
      " 4   Kms_Driven     301 non-null    int64  \n",
      " 5   Fuel_Type      301 non-null    object \n",
      " 6   Seller_Type    301 non-null    object \n",
      " 7   Transmission   301 non-null    object \n",
      " 8   Owner          301 non-null    int64  \n",
      "dtypes: float64(2), int64(3), object(4)\n",
      "memory usage: 21.3+ KB\n"
     ]
    }
   ],
   "source": [
    "df_main.info()"
   ]
  },
  {
   "cell_type": "code",
   "execution_count": null,
   "metadata": {
    "execution": {
     "iopub.execute_input": "2021-08-23T11:25:16.811144Z",
     "iopub.status.busy": "2021-08-23T11:25:16.810712Z",
     "iopub.status.idle": "2021-08-23T11:25:16.940818Z",
     "shell.execute_reply": "2021-08-23T11:25:16.940036Z",
     "shell.execute_reply.started": "2021-08-23T11:25:16.811111Z"
    },
    "papermill": {
     "duration": 0.033147,
     "end_time": "2021-08-23T13:41:09.502253",
     "exception": false,
     "start_time": "2021-08-23T13:41:09.469106",
     "status": "completed"
    },
    "tags": []
   },
   "outputs": [],
   "source": []
  },
  {
   "cell_type": "code",
   "execution_count": 6,
   "metadata": {
    "execution": {
     "iopub.execute_input": "2021-08-23T13:41:09.576529Z",
     "iopub.status.busy": "2021-08-23T13:41:09.575882Z",
     "iopub.status.idle": "2021-08-23T13:41:09.595795Z",
     "shell.execute_reply": "2021-08-23T13:41:09.595337Z",
     "shell.execute_reply.started": "2021-08-23T12:20:44.196946Z"
    },
    "papermill": {
     "duration": 0.060201,
     "end_time": "2021-08-23T13:41:09.595908",
     "exception": false,
     "start_time": "2021-08-23T13:41:09.535707",
     "status": "completed"
    },
    "tags": []
   },
   "outputs": [
    {
     "data": {
      "text/html": [
       "<div>\n",
       "<style scoped>\n",
       "    .dataframe tbody tr th:only-of-type {\n",
       "        vertical-align: middle;\n",
       "    }\n",
       "\n",
       "    .dataframe tbody tr th {\n",
       "        vertical-align: top;\n",
       "    }\n",
       "\n",
       "    .dataframe thead th {\n",
       "        text-align: right;\n",
       "    }\n",
       "</style>\n",
       "<table border=\"1\" class=\"dataframe\">\n",
       "  <thead>\n",
       "    <tr style=\"text-align: right;\">\n",
       "      <th></th>\n",
       "      <th>Year</th>\n",
       "      <th>Selling_Price</th>\n",
       "      <th>Present_Price</th>\n",
       "      <th>Kms_Driven</th>\n",
       "      <th>Owner</th>\n",
       "    </tr>\n",
       "  </thead>\n",
       "  <tbody>\n",
       "    <tr>\n",
       "      <th>count</th>\n",
       "      <td>301.000000</td>\n",
       "      <td>301.000000</td>\n",
       "      <td>301.000000</td>\n",
       "      <td>301.000000</td>\n",
       "      <td>301.000000</td>\n",
       "    </tr>\n",
       "    <tr>\n",
       "      <th>mean</th>\n",
       "      <td>2013.627907</td>\n",
       "      <td>4.661296</td>\n",
       "      <td>7.628472</td>\n",
       "      <td>36947.205980</td>\n",
       "      <td>0.043189</td>\n",
       "    </tr>\n",
       "    <tr>\n",
       "      <th>std</th>\n",
       "      <td>2.891554</td>\n",
       "      <td>5.082812</td>\n",
       "      <td>8.644115</td>\n",
       "      <td>38886.883882</td>\n",
       "      <td>0.247915</td>\n",
       "    </tr>\n",
       "    <tr>\n",
       "      <th>min</th>\n",
       "      <td>2003.000000</td>\n",
       "      <td>0.100000</td>\n",
       "      <td>0.320000</td>\n",
       "      <td>500.000000</td>\n",
       "      <td>0.000000</td>\n",
       "    </tr>\n",
       "    <tr>\n",
       "      <th>25%</th>\n",
       "      <td>2012.000000</td>\n",
       "      <td>0.900000</td>\n",
       "      <td>1.200000</td>\n",
       "      <td>15000.000000</td>\n",
       "      <td>0.000000</td>\n",
       "    </tr>\n",
       "    <tr>\n",
       "      <th>50%</th>\n",
       "      <td>2014.000000</td>\n",
       "      <td>3.600000</td>\n",
       "      <td>6.400000</td>\n",
       "      <td>32000.000000</td>\n",
       "      <td>0.000000</td>\n",
       "    </tr>\n",
       "    <tr>\n",
       "      <th>75%</th>\n",
       "      <td>2016.000000</td>\n",
       "      <td>6.000000</td>\n",
       "      <td>9.900000</td>\n",
       "      <td>48767.000000</td>\n",
       "      <td>0.000000</td>\n",
       "    </tr>\n",
       "    <tr>\n",
       "      <th>max</th>\n",
       "      <td>2018.000000</td>\n",
       "      <td>35.000000</td>\n",
       "      <td>92.600000</td>\n",
       "      <td>500000.000000</td>\n",
       "      <td>3.000000</td>\n",
       "    </tr>\n",
       "  </tbody>\n",
       "</table>\n",
       "</div>"
      ],
      "text/plain": [
       "              Year  Selling_Price  Present_Price     Kms_Driven       Owner\n",
       "count   301.000000     301.000000     301.000000     301.000000  301.000000\n",
       "mean   2013.627907       4.661296       7.628472   36947.205980    0.043189\n",
       "std       2.891554       5.082812       8.644115   38886.883882    0.247915\n",
       "min    2003.000000       0.100000       0.320000     500.000000    0.000000\n",
       "25%    2012.000000       0.900000       1.200000   15000.000000    0.000000\n",
       "50%    2014.000000       3.600000       6.400000   32000.000000    0.000000\n",
       "75%    2016.000000       6.000000       9.900000   48767.000000    0.000000\n",
       "max    2018.000000      35.000000      92.600000  500000.000000    3.000000"
      ]
     },
     "execution_count": 6,
     "metadata": {},
     "output_type": "execute_result"
    }
   ],
   "source": [
    "# Checking numerical stats\n",
    "df_main.describe()"
   ]
  },
  {
   "cell_type": "code",
   "execution_count": 7,
   "metadata": {
    "execution": {
     "iopub.execute_input": "2021-08-23T13:41:09.669398Z",
     "iopub.status.busy": "2021-08-23T13:41:09.668795Z",
     "iopub.status.idle": "2021-08-23T13:41:09.673539Z",
     "shell.execute_reply": "2021-08-23T13:41:09.674009Z",
     "shell.execute_reply.started": "2021-08-23T12:20:50.873094Z"
    },
    "papermill": {
     "duration": 0.043543,
     "end_time": "2021-08-23T13:41:09.674141",
     "exception": false,
     "start_time": "2021-08-23T13:41:09.630598",
     "status": "completed"
    },
    "tags": []
   },
   "outputs": [
    {
     "data": {
      "text/plain": [
       "Car_Name         0\n",
       "Year             0\n",
       "Selling_Price    0\n",
       "Present_Price    0\n",
       "Kms_Driven       0\n",
       "Fuel_Type        0\n",
       "Seller_Type      0\n",
       "Transmission     0\n",
       "Owner            0\n",
       "dtype: int64"
      ]
     },
     "execution_count": 7,
     "metadata": {},
     "output_type": "execute_result"
    }
   ],
   "source": [
    "# Checking for missing values\n",
    "df_main.isna().sum()"
   ]
  },
  {
   "cell_type": "code",
   "execution_count": null,
   "metadata": {
    "execution": {
     "iopub.execute_input": "2021-08-23T11:22:49.181542Z",
     "iopub.status.busy": "2021-08-23T11:22:49.180839Z",
     "iopub.status.idle": "2021-08-23T11:22:49.312543Z",
     "shell.execute_reply": "2021-08-23T11:22:49.311363Z",
     "shell.execute_reply.started": "2021-08-23T11:22:49.181492Z"
    },
    "papermill": {
     "duration": 0.033416,
     "end_time": "2021-08-23T13:41:09.741862",
     "exception": false,
     "start_time": "2021-08-23T13:41:09.708446",
     "status": "completed"
    },
    "tags": []
   },
   "outputs": [],
   "source": []
  },
  {
   "cell_type": "markdown",
   "metadata": {
    "papermill": {
     "duration": 0.033387,
     "end_time": "2021-08-23T13:41:09.809230",
     "exception": false,
     "start_time": "2021-08-23T13:41:09.775843",
     "status": "completed"
    },
    "tags": []
   },
   "source": [
    "<a id='2'></a>\n",
    "# 2. Data Preprocessing"
   ]
  },
  {
   "cell_type": "markdown",
   "metadata": {
    "papermill": {
     "duration": 0.034613,
     "end_time": "2021-08-23T13:41:09.877922",
     "exception": false,
     "start_time": "2021-08-23T13:41:09.843309",
     "status": "completed"
    },
    "tags": []
   },
   "source": [
    "Extracting Age of car using Year column"
   ]
  },
  {
   "cell_type": "code",
   "execution_count": 8,
   "metadata": {
    "execution": {
     "iopub.execute_input": "2021-08-23T13:41:09.949597Z",
     "iopub.status.busy": "2021-08-23T13:41:09.948983Z",
     "iopub.status.idle": "2021-08-23T13:41:09.973318Z",
     "shell.execute_reply": "2021-08-23T13:41:09.972754Z",
     "shell.execute_reply.started": "2021-08-23T12:20:54.051120Z"
    },
    "papermill": {
     "duration": 0.061746,
     "end_time": "2021-08-23T13:41:09.973431",
     "exception": false,
     "start_time": "2021-08-23T13:41:09.911685",
     "status": "completed"
    },
    "tags": []
   },
   "outputs": [],
   "source": [
    "df_main['Age'] = 2020 - df_main['Year']\n"
   ]
  },
  {
   "cell_type": "code",
   "execution_count": 9,
   "metadata": {
    "execution": {
     "iopub.execute_input": "2021-08-23T13:41:10.044179Z",
     "iopub.status.busy": "2021-08-23T13:41:10.043633Z",
     "iopub.status.idle": "2021-08-23T13:41:10.049918Z",
     "shell.execute_reply": "2021-08-23T13:41:10.050421Z",
     "shell.execute_reply.started": "2021-08-23T12:20:56.227870Z"
    },
    "papermill": {
     "duration": 0.043109,
     "end_time": "2021-08-23T13:41:10.050561",
     "exception": false,
     "start_time": "2021-08-23T13:41:10.007452",
     "status": "completed"
    },
    "tags": []
   },
   "outputs": [],
   "source": [
    "df_main.drop('Year',axis=1,inplace = True)"
   ]
  },
  {
   "cell_type": "markdown",
   "metadata": {
    "papermill": {
     "duration": 0.034516,
     "end_time": "2021-08-23T13:41:10.119633",
     "exception": false,
     "start_time": "2021-08-23T13:41:10.085117",
     "status": "completed"
    },
    "tags": []
   },
   "source": [
    "Renaming columns for better clarity"
   ]
  },
  {
   "cell_type": "code",
   "execution_count": 10,
   "metadata": {
    "execution": {
     "iopub.execute_input": "2021-08-23T13:41:10.193284Z",
     "iopub.status.busy": "2021-08-23T13:41:10.192398Z",
     "iopub.status.idle": "2021-08-23T13:41:10.195495Z",
     "shell.execute_reply": "2021-08-23T13:41:10.194934Z",
     "shell.execute_reply.started": "2021-08-23T12:20:59.913539Z"
    },
    "papermill": {
     "duration": 0.041975,
     "end_time": "2021-08-23T13:41:10.195613",
     "exception": false,
     "start_time": "2021-08-23T13:41:10.153638",
     "status": "completed"
    },
    "tags": []
   },
   "outputs": [],
   "source": [
    "df_main.rename(columns = {'Selling_Price':'Selling_Price(lacs)','Present_Price':'Present_Price(lacs)',\n",
    "                          'Owner':'Past_Owners'},inplace = True)"
   ]
  },
  {
   "cell_type": "markdown",
   "metadata": {
    "papermill": {
     "duration": 0.034213,
     "end_time": "2021-08-23T13:41:10.263780",
     "exception": false,
     "start_time": "2021-08-23T13:41:10.229567",
     "status": "completed"
    },
    "tags": []
   },
   "source": [
    "<a id='3'></a>\n",
    "# 3. Exploratory Data Analysis (EDA)"
   ]
  },
  {
   "cell_type": "markdown",
   "metadata": {
    "papermill": {
     "duration": 0.03377,
     "end_time": "2021-08-23T13:41:10.332292",
     "exception": false,
     "start_time": "2021-08-23T13:41:10.298522",
     "status": "completed"
    },
    "tags": []
   },
   "source": [
    "<a id=\"3_a\"></a>\n",
    "## a) Univariate Analysis"
   ]
  },
  {
   "cell_type": "code",
   "execution_count": 11,
   "metadata": {
    "execution": {
     "iopub.execute_input": "2021-08-23T13:41:10.406489Z",
     "iopub.status.busy": "2021-08-23T13:41:10.405670Z",
     "iopub.status.idle": "2021-08-23T13:41:10.408892Z",
     "shell.execute_reply": "2021-08-23T13:41:10.409398Z",
     "shell.execute_reply.started": "2021-08-23T12:21:02.710088Z"
    },
    "papermill": {
     "duration": 0.042357,
     "end_time": "2021-08-23T13:41:10.409541",
     "exception": false,
     "start_time": "2021-08-23T13:41:10.367184",
     "status": "completed"
    },
    "tags": []
   },
   "outputs": [
    {
     "data": {
      "text/plain": [
       "Index(['Car_Name', 'Selling_Price(lacs)', 'Present_Price(lacs)', 'Kms_Driven',\n",
       "       'Fuel_Type', 'Seller_Type', 'Transmission', 'Past_Owners', 'Age'],\n",
       "      dtype='object')"
      ]
     },
     "execution_count": 11,
     "metadata": {},
     "output_type": "execute_result"
    }
   ],
   "source": [
    "df_main.columns"
   ]
  },
  {
   "cell_type": "markdown",
   "metadata": {
    "papermill": {
     "duration": 0.033763,
     "end_time": "2021-08-23T13:41:10.477257",
     "exception": false,
     "start_time": "2021-08-23T13:41:10.443494",
     "status": "completed"
    },
    "tags": []
   },
   "source": [
    "##### Plotting Categorical Columns"
   ]
  },
  {
   "cell_type": "code",
   "execution_count": 12,
   "metadata": {
    "execution": {
     "iopub.execute_input": "2021-08-23T13:41:10.548999Z",
     "iopub.status.busy": "2021-08-23T13:41:10.548099Z",
     "iopub.status.idle": "2021-08-23T13:41:10.951466Z",
     "shell.execute_reply": "2021-08-23T13:41:10.951880Z",
     "shell.execute_reply.started": "2021-08-23T12:21:12.763098Z"
    },
    "papermill": {
     "duration": 0.44071,
     "end_time": "2021-08-23T13:41:10.952023",
     "exception": false,
     "start_time": "2021-08-23T13:41:10.511313",
     "status": "completed"
    },
    "tags": []
   },
   "outputs": [
    {
     "data": {
      "image/png": "[encoded data removed]",
      "text/plain": [
       "<Figure size 720x288 with 2 Axes>"
      ]
     },
     "metadata": {},
     "output_type": "display_data"
    },
    {
     "data": {
      "image/png": "[encoded data removed]",
      "text/plain": [
       "<Figure size 720x288 with 2 Axes>"
      ]
     },
     "metadata": {},
     "output_type": "display_data"
    }
   ],
   "source": [
    "cat_cols = ['Fuel_Type','Seller_Type','Transmission','Past_Owners']\n",
    "i=0\n",
    "while i < 4:\n",
    "    fig = plt.figure(figsize=[10,4])\n",
    "    #ax1 = fig.add_subplot(121)\n",
    "    #ax2 = fig.add_subplot(122)\n",
    "    \n",
    "    #ax1.title.set_text(cat_cols[i])\n",
    "    plt.subplot(1,2,1)\n",
    "    sns.countplot(x=cat_cols[i], data=df_main)\n",
    "    i += 1\n",
    "    \n",
    "    #ax2.title.set_text(cat_cols[i])\n",
    "    plt.subplot(1,2,2)\n",
    "    sns.countplot(x=cat_cols[i], data=df_main)\n",
    "    i += 1\n",
    "    \n",
    "    plt.show()"
   ]
  },
  {
   "cell_type": "markdown",
   "metadata": {
    "papermill": {
     "duration": 0.035259,
     "end_time": "2021-08-23T13:41:11.023097",
     "exception": false,
     "start_time": "2021-08-23T13:41:10.987838",
     "status": "completed"
    },
    "tags": []
   },
   "source": [
    "##### Plotting numerical columns"
   ]
  },
  {
   "cell_type": "code",
   "execution_count": 13,
   "metadata": {
    "execution": {
     "iopub.execute_input": "2021-08-23T13:41:11.099118Z",
     "iopub.status.busy": "2021-08-23T13:41:11.098211Z",
     "iopub.status.idle": "2021-08-23T13:41:11.448384Z",
     "shell.execute_reply": "2021-08-23T13:41:11.448797Z",
     "shell.execute_reply.started": "2021-08-23T12:21:17.671837Z"
    },
    "papermill": {
     "duration": 0.388785,
     "end_time": "2021-08-23T13:41:11.448942",
     "exception": false,
     "start_time": "2021-08-23T13:41:11.060157",
     "status": "completed"
    },
    "tags": []
   },
   "outputs": [
    {
     "data": {
      "image/png": "[encoded data removed]",
      "text/plain": [
       "<Figure size 936x216 with 2 Axes>"
      ]
     },
     "metadata": {},
     "output_type": "display_data"
    },
    {
     "data": {
      "image/png": "[encoded data removed]",
      "text/plain": [
       "<Figure size 936x216 with 2 Axes>"
      ]
     },
     "metadata": {},
     "output_type": "display_data"
    }
   ],
   "source": [
    "num_cols = ['Selling_Price(lacs)','Present_Price(lacs)','Kms_Driven','Age']\n",
    "i=0\n",
    "while i < 4:\n",
    "    fig = plt.figure(figsize=[13,3])\n",
    "    #ax1 = fig.add_subplot(121)\n",
    "    #ax2 = fig.add_subplot(122)\n",
    "    \n",
    "    #ax1.title.set_text(num_cols[i])\n",
    "    plt.subplot(1,2,1)\n",
    "    sns.boxplot(x=num_cols[i], data=df_main)\n",
    "    i += 1\n",
    "    \n",
    "    #ax2.title.set_text(num_cols[i])\n",
    "    plt.subplot(1,2,2)\n",
    "    sns.boxplot(x=num_cols[i], data=df_main)\n",
    "    i += 1\n",
    "    \n",
    "    plt.show()"
   ]
  },
  {
   "cell_type": "markdown",
   "metadata": {
    "papermill": {
     "duration": 0.036265,
     "end_time": "2021-08-23T13:41:11.521971",
     "exception": false,
     "start_time": "2021-08-23T13:41:11.485706",
     "status": "completed"
    },
    "tags": []
   },
   "source": [
    "**Checking outliiers in Present_Price, Selling_Price and Kms_Driven**"
   ]
  },
  {
   "cell_type": "code",
   "execution_count": 14,
   "metadata": {
    "execution": {
     "iopub.execute_input": "2021-08-23T13:41:11.599082Z",
     "iopub.status.busy": "2021-08-23T13:41:11.598170Z",
     "iopub.status.idle": "2021-08-23T13:41:11.613796Z",
     "shell.execute_reply": "2021-08-23T13:41:11.614247Z",
     "shell.execute_reply.started": "2021-08-23T12:22:07.861984Z"
    },
    "papermill": {
     "duration": 0.055548,
     "end_time": "2021-08-23T13:41:11.614410",
     "exception": false,
     "start_time": "2021-08-23T13:41:11.558862",
     "status": "completed"
    },
    "tags": []
   },
   "outputs": [
    {
     "data": {
      "text/html": [
       "<div>\n",
       "<style scoped>\n",
       "    .dataframe tbody tr th:only-of-type {\n",
       "        vertical-align: middle;\n",
       "    }\n",
       "\n",
       "    .dataframe tbody tr th {\n",
       "        vertical-align: top;\n",
       "    }\n",
       "\n",
       "    .dataframe thead th {\n",
       "        text-align: right;\n",
       "    }\n",
       "</style>\n",
       "<table border=\"1\" class=\"dataframe\">\n",
       "  <thead>\n",
       "    <tr style=\"text-align: right;\">\n",
       "      <th></th>\n",
       "      <th>Car_Name</th>\n",
       "      <th>Selling_Price(lacs)</th>\n",
       "      <th>Present_Price(lacs)</th>\n",
       "      <th>Kms_Driven</th>\n",
       "      <th>Fuel_Type</th>\n",
       "      <th>Seller_Type</th>\n",
       "      <th>Transmission</th>\n",
       "      <th>Past_Owners</th>\n",
       "      <th>Age</th>\n",
       "    </tr>\n",
       "  </thead>\n",
       "  <tbody>\n",
       "    <tr>\n",
       "      <th>64</th>\n",
       "      <td>fortuner</td>\n",
       "      <td>33.0</td>\n",
       "      <td>36.23</td>\n",
       "      <td>6000</td>\n",
       "      <td>Diesel</td>\n",
       "      <td>Dealer</td>\n",
       "      <td>Automatic</td>\n",
       "      <td>0</td>\n",
       "      <td>3</td>\n",
       "    </tr>\n",
       "    <tr>\n",
       "      <th>86</th>\n",
       "      <td>land cruiser</td>\n",
       "      <td>35.0</td>\n",
       "      <td>92.60</td>\n",
       "      <td>78000</td>\n",
       "      <td>Diesel</td>\n",
       "      <td>Dealer</td>\n",
       "      <td>Manual</td>\n",
       "      <td>0</td>\n",
       "      <td>10</td>\n",
       "    </tr>\n",
       "  </tbody>\n",
       "</table>\n",
       "</div>"
      ],
      "text/plain": [
       "        Car_Name  Selling_Price(lacs)  Present_Price(lacs)  Kms_Driven  \\\n",
       "64      fortuner                 33.0                36.23        6000   \n",
       "86  land cruiser                 35.0                92.60       78000   \n",
       "\n",
       "   Fuel_Type Seller_Type Transmission  Past_Owners  Age  \n",
       "64    Diesel      Dealer    Automatic            0    3  \n",
       "86    Diesel      Dealer       Manual            0   10  "
      ]
     },
     "execution_count": 14,
     "metadata": {},
     "output_type": "execute_result"
    }
   ],
   "source": [
    "df_main[df_main['Present_Price(lacs)'] > df_main['Present_Price(lacs)'].quantile(0.99)]"
   ]
  },
  {
   "cell_type": "code",
   "execution_count": 15,
   "metadata": {
    "execution": {
     "iopub.execute_input": "2021-08-23T13:41:11.692559Z",
     "iopub.status.busy": "2021-08-23T13:41:11.691658Z",
     "iopub.status.idle": "2021-08-23T13:41:11.705653Z",
     "shell.execute_reply": "2021-08-23T13:41:11.706048Z",
     "shell.execute_reply.started": "2021-08-23T12:22:05.884792Z"
    },
    "papermill": {
     "duration": 0.053726,
     "end_time": "2021-08-23T13:41:11.706195",
     "exception": false,
     "start_time": "2021-08-23T13:41:11.652469",
     "status": "completed"
    },
    "tags": []
   },
   "outputs": [
    {
     "data": {
      "text/html": [
       "<div>\n",
       "<style scoped>\n",
       "    .dataframe tbody tr th:only-of-type {\n",
       "        vertical-align: middle;\n",
       "    }\n",
       "\n",
       "    .dataframe tbody tr th {\n",
       "        vertical-align: top;\n",
       "    }\n",
       "\n",
       "    .dataframe thead th {\n",
       "        text-align: right;\n",
       "    }\n",
       "</style>\n",
       "<table border=\"1\" class=\"dataframe\">\n",
       "  <thead>\n",
       "    <tr style=\"text-align: right;\">\n",
       "      <th></th>\n",
       "      <th>Car_Name</th>\n",
       "      <th>Selling_Price(lacs)</th>\n",
       "      <th>Present_Price(lacs)</th>\n",
       "      <th>Kms_Driven</th>\n",
       "      <th>Fuel_Type</th>\n",
       "      <th>Seller_Type</th>\n",
       "      <th>Transmission</th>\n",
       "      <th>Past_Owners</th>\n",
       "      <th>Age</th>\n",
       "    </tr>\n",
       "  </thead>\n",
       "  <tbody>\n",
       "    <tr>\n",
       "      <th>63</th>\n",
       "      <td>fortuner</td>\n",
       "      <td>23.5</td>\n",
       "      <td>35.96</td>\n",
       "      <td>47000</td>\n",
       "      <td>Diesel</td>\n",
       "      <td>Dealer</td>\n",
       "      <td>Automatic</td>\n",
       "      <td>0</td>\n",
       "      <td>5</td>\n",
       "    </tr>\n",
       "    <tr>\n",
       "      <th>64</th>\n",
       "      <td>fortuner</td>\n",
       "      <td>33.0</td>\n",
       "      <td>36.23</td>\n",
       "      <td>6000</td>\n",
       "      <td>Diesel</td>\n",
       "      <td>Dealer</td>\n",
       "      <td>Automatic</td>\n",
       "      <td>0</td>\n",
       "      <td>3</td>\n",
       "    </tr>\n",
       "    <tr>\n",
       "      <th>86</th>\n",
       "      <td>land cruiser</td>\n",
       "      <td>35.0</td>\n",
       "      <td>92.60</td>\n",
       "      <td>78000</td>\n",
       "      <td>Diesel</td>\n",
       "      <td>Dealer</td>\n",
       "      <td>Manual</td>\n",
       "      <td>0</td>\n",
       "      <td>10</td>\n",
       "    </tr>\n",
       "  </tbody>\n",
       "</table>\n",
       "</div>"
      ],
      "text/plain": [
       "        Car_Name  Selling_Price(lacs)  Present_Price(lacs)  Kms_Driven  \\\n",
       "63      fortuner                 23.5                35.96       47000   \n",
       "64      fortuner                 33.0                36.23        6000   \n",
       "86  land cruiser                 35.0                92.60       78000   \n",
       "\n",
       "   Fuel_Type Seller_Type Transmission  Past_Owners  Age  \n",
       "63    Diesel      Dealer    Automatic            0    5  \n",
       "64    Diesel      Dealer    Automatic            0    3  \n",
       "86    Diesel      Dealer       Manual            0   10  "
      ]
     },
     "execution_count": 15,
     "metadata": {},
     "output_type": "execute_result"
    }
   ],
   "source": [
    "df_main[df_main['Selling_Price(lacs)'] > df_main['Selling_Price(lacs)'].quantile(0.99)]"
   ]
  },
  {
   "cell_type": "code",
   "execution_count": 16,
   "metadata": {
    "execution": {
     "iopub.execute_input": "2021-08-23T13:41:11.793250Z",
     "iopub.status.busy": "2021-08-23T13:41:11.792356Z",
     "iopub.status.idle": "2021-08-23T13:41:11.800757Z",
     "shell.execute_reply": "2021-08-23T13:41:11.801215Z"
    },
    "papermill": {
     "duration": 0.055346,
     "end_time": "2021-08-23T13:41:11.801395",
     "exception": false,
     "start_time": "2021-08-23T13:41:11.746049",
     "status": "completed"
    },
    "tags": []
   },
   "outputs": [
    {
     "data": {
      "text/plain": [
       "23.0"
      ]
     },
     "execution_count": 16,
     "metadata": {},
     "output_type": "execute_result"
    }
   ],
   "source": [
    "df_main['Selling_Price(lacs)'].quantile(0.99)\n"
   ]
  },
  {
   "cell_type": "code",
   "execution_count": 17,
   "metadata": {
    "execution": {
     "iopub.execute_input": "2021-08-23T13:41:11.886442Z",
     "iopub.status.busy": "2021-08-23T13:41:11.885395Z",
     "iopub.status.idle": "2021-08-23T13:41:11.897399Z",
     "shell.execute_reply": "2021-08-23T13:41:11.897856Z",
     "shell.execute_reply.started": "2021-08-23T12:24:55.369570Z"
    },
    "papermill": {
     "duration": 0.055647,
     "end_time": "2021-08-23T13:41:11.897990",
     "exception": false,
     "start_time": "2021-08-23T13:41:11.842343",
     "status": "completed"
    },
    "tags": []
   },
   "outputs": [
    {
     "data": {
      "text/html": [
       "<div>\n",
       "<style scoped>\n",
       "    .dataframe tbody tr th:only-of-type {\n",
       "        vertical-align: middle;\n",
       "    }\n",
       "\n",
       "    .dataframe tbody tr th {\n",
       "        vertical-align: top;\n",
       "    }\n",
       "\n",
       "    .dataframe thead th {\n",
       "        text-align: right;\n",
       "    }\n",
       "</style>\n",
       "<table border=\"1\" class=\"dataframe\">\n",
       "  <thead>\n",
       "    <tr style=\"text-align: right;\">\n",
       "      <th></th>\n",
       "      <th>Car_Name</th>\n",
       "      <th>Selling_Price(lacs)</th>\n",
       "      <th>Present_Price(lacs)</th>\n",
       "      <th>Kms_Driven</th>\n",
       "      <th>Fuel_Type</th>\n",
       "      <th>Seller_Type</th>\n",
       "      <th>Transmission</th>\n",
       "      <th>Past_Owners</th>\n",
       "      <th>Age</th>\n",
       "    </tr>\n",
       "  </thead>\n",
       "  <tbody>\n",
       "    <tr>\n",
       "      <th>84</th>\n",
       "      <td>innova</td>\n",
       "      <td>3.49</td>\n",
       "      <td>13.46</td>\n",
       "      <td>197176</td>\n",
       "      <td>Diesel</td>\n",
       "      <td>Dealer</td>\n",
       "      <td>Manual</td>\n",
       "      <td>0</td>\n",
       "      <td>15</td>\n",
       "    </tr>\n",
       "    <tr>\n",
       "      <th>179</th>\n",
       "      <td>Honda Karizma</td>\n",
       "      <td>0.31</td>\n",
       "      <td>1.05</td>\n",
       "      <td>213000</td>\n",
       "      <td>Petrol</td>\n",
       "      <td>Individual</td>\n",
       "      <td>Manual</td>\n",
       "      <td>0</td>\n",
       "      <td>10</td>\n",
       "    </tr>\n",
       "    <tr>\n",
       "      <th>196</th>\n",
       "      <td>Activa 3g</td>\n",
       "      <td>0.17</td>\n",
       "      <td>0.52</td>\n",
       "      <td>500000</td>\n",
       "      <td>Petrol</td>\n",
       "      <td>Individual</td>\n",
       "      <td>Automatic</td>\n",
       "      <td>0</td>\n",
       "      <td>12</td>\n",
       "    </tr>\n",
       "  </tbody>\n",
       "</table>\n",
       "</div>"
      ],
      "text/plain": [
       "          Car_Name  Selling_Price(lacs)  Present_Price(lacs)  Kms_Driven  \\\n",
       "84          innova                 3.49                13.46      197176   \n",
       "179  Honda Karizma                 0.31                 1.05      213000   \n",
       "196      Activa 3g                 0.17                 0.52      500000   \n",
       "\n",
       "    Fuel_Type Seller_Type Transmission  Past_Owners  Age  \n",
       "84     Diesel      Dealer       Manual            0   15  \n",
       "179    Petrol  Individual       Manual            0   10  \n",
       "196    Petrol  Individual    Automatic            0   12  "
      ]
     },
     "execution_count": 17,
     "metadata": {},
     "output_type": "execute_result"
    }
   ],
   "source": [
    "df_main[df_main['Kms_Driven'] > df_main['Kms_Driven'].quantile(0.99)]"
   ]
  },
  {
   "cell_type": "markdown",
   "metadata": {
    "papermill": {
     "duration": 0.03775,
     "end_time": "2021-08-23T13:41:11.973967",
     "exception": false,
     "start_time": "2021-08-23T13:41:11.936217",
     "status": "completed"
    },
    "tags": []
   },
   "source": [
    "<a id=\"3_b\"></a>\n",
    "## b) Bivariate/Multi-Variate Analysis"
   ]
  },
  {
   "cell_type": "code",
   "execution_count": 18,
   "metadata": {
    "execution": {
     "iopub.execute_input": "2021-08-23T13:41:12.053692Z",
     "iopub.status.busy": "2021-08-23T13:41:12.052709Z",
     "iopub.status.idle": "2021-08-23T13:41:12.383513Z",
     "shell.execute_reply": "2021-08-23T13:41:12.383930Z",
     "shell.execute_reply.started": "2021-08-23T12:28:07.963073Z"
    },
    "papermill": {
     "duration": 0.371969,
     "end_time": "2021-08-23T13:41:12.384075",
     "exception": false,
     "start_time": "2021-08-23T13:41:12.012106",
     "status": "completed"
    },
    "tags": []
   },
   "outputs": [
    {
     "data": {
      "image/png": "[encoded data removed]",
      "text/plain": [
       "<Figure size 576x396 with 2 Axes>"
      ]
     },
     "metadata": {},
     "output_type": "display_data"
    }
   ],
   "source": [
    "sns.heatmap(df_main.corr(), annot=True, cmap=\"RdBu\")\n",
    "plt.show()"
   ]
  },
  {
   "cell_type": "code",
   "execution_count": 19,
   "metadata": {
    "execution": {
     "iopub.execute_input": "2021-08-23T13:41:12.467849Z",
     "iopub.status.busy": "2021-08-23T13:41:12.466923Z",
     "iopub.status.idle": "2021-08-23T13:41:12.473655Z",
     "shell.execute_reply": "2021-08-23T13:41:12.474104Z",
     "shell.execute_reply.started": "2021-08-23T12:29:24.479891Z"
    },
    "papermill": {
     "duration": 0.049088,
     "end_time": "2021-08-23T13:41:12.474236",
     "exception": false,
     "start_time": "2021-08-23T13:41:12.425148",
     "status": "completed"
    },
    "tags": []
   },
   "outputs": [
    {
     "data": {
      "text/plain": [
       "Selling_Price(lacs)    1.000000\n",
       "Present_Price(lacs)    0.878983\n",
       "Kms_Driven             0.029187\n",
       "Past_Owners           -0.088344\n",
       "Age                   -0.236141\n",
       "Name: Selling_Price(lacs), dtype: float64"
      ]
     },
     "execution_count": 19,
     "metadata": {},
     "output_type": "execute_result"
    }
   ],
   "source": [
    "df_main.corr()['Selling_Price(lacs)']"
   ]
  },
  {
   "cell_type": "markdown",
   "metadata": {
    "papermill": {
     "duration": 0.03922,
     "end_time": "2021-08-23T13:41:12.553080",
     "exception": false,
     "start_time": "2021-08-23T13:41:12.513860",
     "status": "completed"
    },
    "tags": []
   },
   "source": [
    "<b>Inferences:</b>\n",
    "- Present price and resale price are highly correlated, as observed in EDA.\n",
    "- Age of the vehicle seems to show negative correlation with selling price.\n",
    "- Past_Owners and Kms_Driven seems to show very less correlation with selling price."
   ]
  },
  {
   "cell_type": "markdown",
   "metadata": {
    "papermill": {
     "duration": 0.039861,
     "end_time": "2021-08-23T13:41:12.632987",
     "exception": false,
     "start_time": "2021-08-23T13:41:12.593126",
     "status": "completed"
    },
    "tags": []
   },
   "source": [
    "Checking average selling price of vehicle based on its Seller type and Fuel type"
   ]
  },
  {
   "cell_type": "code",
   "execution_count": 20,
   "metadata": {
    "execution": {
     "iopub.execute_input": "2021-08-23T13:41:12.747142Z",
     "iopub.status.busy": "2021-08-23T13:41:12.746553Z",
     "iopub.status.idle": "2021-08-23T13:41:12.763173Z",
     "shell.execute_reply": "2021-08-23T13:41:12.763695Z",
     "shell.execute_reply.started": "2021-08-23T12:43:22.785371Z"
    },
    "papermill": {
     "duration": 0.079813,
     "end_time": "2021-08-23T13:41:12.763833",
     "exception": false,
     "start_time": "2021-08-23T13:41:12.684020",
     "status": "completed"
    },
    "scrolled": true,
    "tags": []
   },
   "outputs": [
    {
     "data": {
      "text/html": [
       "<div>\n",
       "<style scoped>\n",
       "    .dataframe tbody tr th:only-of-type {\n",
       "        vertical-align: middle;\n",
       "    }\n",
       "\n",
       "    .dataframe tbody tr th {\n",
       "        vertical-align: top;\n",
       "    }\n",
       "\n",
       "    .dataframe thead th {\n",
       "        text-align: right;\n",
       "    }\n",
       "</style>\n",
       "<table border=\"1\" class=\"dataframe\">\n",
       "  <thead>\n",
       "    <tr style=\"text-align: right;\">\n",
       "      <th>Fuel_Type</th>\n",
       "      <th>CNG</th>\n",
       "      <th>Diesel</th>\n",
       "      <th>Petrol</th>\n",
       "    </tr>\n",
       "    <tr>\n",
       "      <th>Seller_Type</th>\n",
       "      <th></th>\n",
       "      <th></th>\n",
       "      <th></th>\n",
       "    </tr>\n",
       "  </thead>\n",
       "  <tbody>\n",
       "    <tr>\n",
       "      <th>Dealer</th>\n",
       "      <td>3.1</td>\n",
       "      <td>10.181525</td>\n",
       "      <td>5.252388</td>\n",
       "    </tr>\n",
       "    <tr>\n",
       "      <th>Individual</th>\n",
       "      <td>NaN</td>\n",
       "      <td>16.000000</td>\n",
       "      <td>0.726857</td>\n",
       "    </tr>\n",
       "  </tbody>\n",
       "</table>\n",
       "</div>"
      ],
      "text/plain": [
       "Fuel_Type    CNG     Diesel    Petrol\n",
       "Seller_Type                          \n",
       "Dealer       3.1  10.181525  5.252388\n",
       "Individual   NaN  16.000000  0.726857"
      ]
     },
     "execution_count": 20,
     "metadata": {},
     "output_type": "execute_result"
    }
   ],
   "source": [
    "df_main.pivot_table(values='Selling_Price(lacs)', index = 'Seller_Type', columns= 'Fuel_Type')"
   ]
  },
  {
   "cell_type": "markdown",
   "metadata": {
    "papermill": {
     "duration": 0.040493,
     "end_time": "2021-08-23T13:41:12.844799",
     "exception": false,
     "start_time": "2021-08-23T13:41:12.804306",
     "status": "completed"
    },
    "tags": []
   },
   "source": [
    "<b>Inferences:</b> Diesel Vehicles fetch higher price compared to petrol & CNG for both sellers."
   ]
  },
  {
   "cell_type": "markdown",
   "metadata": {
    "papermill": {
     "duration": 0.039612,
     "end_time": "2021-08-23T13:41:12.924573",
     "exception": false,
     "start_time": "2021-08-23T13:41:12.884961",
     "status": "completed"
    },
    "tags": []
   },
   "source": [
    "Checking average selling price of vehicle based on its Seller type and Transmission"
   ]
  },
  {
   "cell_type": "code",
   "execution_count": 21,
   "metadata": {
    "execution": {
     "iopub.execute_input": "2021-08-23T13:41:13.008901Z",
     "iopub.status.busy": "2021-08-23T13:41:13.007918Z",
     "iopub.status.idle": "2021-08-23T13:41:13.027814Z",
     "shell.execute_reply": "2021-08-23T13:41:13.028259Z"
    },
    "papermill": {
     "duration": 0.063677,
     "end_time": "2021-08-23T13:41:13.028419",
     "exception": false,
     "start_time": "2021-08-23T13:41:12.964742",
     "status": "completed"
    },
    "tags": []
   },
   "outputs": [
    {
     "data": {
      "text/html": [
       "<div>\n",
       "<style scoped>\n",
       "    .dataframe tbody tr th:only-of-type {\n",
       "        vertical-align: middle;\n",
       "    }\n",
       "\n",
       "    .dataframe tbody tr th {\n",
       "        vertical-align: top;\n",
       "    }\n",
       "\n",
       "    .dataframe thead th {\n",
       "        text-align: right;\n",
       "    }\n",
       "</style>\n",
       "<table border=\"1\" class=\"dataframe\">\n",
       "  <thead>\n",
       "    <tr style=\"text-align: right;\">\n",
       "      <th>Transmission</th>\n",
       "      <th>Automatic</th>\n",
       "      <th>Manual</th>\n",
       "    </tr>\n",
       "    <tr>\n",
       "      <th>Seller_Type</th>\n",
       "      <th></th>\n",
       "      <th></th>\n",
       "    </tr>\n",
       "  </thead>\n",
       "  <tbody>\n",
       "    <tr>\n",
       "      <th>Dealer</th>\n",
       "      <td>12.246552</td>\n",
       "      <td>5.756506</td>\n",
       "    </tr>\n",
       "    <tr>\n",
       "      <th>Individual</th>\n",
       "      <td>1.968182</td>\n",
       "      <td>0.743895</td>\n",
       "    </tr>\n",
       "  </tbody>\n",
       "</table>\n",
       "</div>"
      ],
      "text/plain": [
       "Transmission  Automatic    Manual\n",
       "Seller_Type                      \n",
       "Dealer        12.246552  5.756506\n",
       "Individual     1.968182  0.743895"
      ]
     },
     "execution_count": 21,
     "metadata": {},
     "output_type": "execute_result"
    }
   ],
   "source": [
    "df_main.pivot_table(values='Selling_Price(lacs)', index = 'Seller_Type', columns= 'Transmission')"
   ]
  },
  {
   "cell_type": "markdown",
   "metadata": {
    "papermill": {
     "duration": 0.040535,
     "end_time": "2021-08-23T13:41:13.109599",
     "exception": false,
     "start_time": "2021-08-23T13:41:13.069064",
     "status": "completed"
    },
    "tags": []
   },
   "source": [
    "<b>Inferences:</b> Automatic vehicles fetch higher resale price compared to manual ones."
   ]
  },
  {
   "cell_type": "markdown",
   "metadata": {
    "papermill": {
     "duration": 0.040056,
     "end_time": "2021-08-23T13:41:13.190031",
     "exception": false,
     "start_time": "2021-08-23T13:41:13.149975",
     "status": "completed"
    },
    "tags": []
   },
   "source": [
    "<a id=\"4\"></a>\n",
    "# 4. Data Preparation"
   ]
  },
  {
   "cell_type": "markdown",
   "metadata": {
    "papermill": {
     "duration": 0.039718,
     "end_time": "2021-08-23T13:41:13.270048",
     "exception": false,
     "start_time": "2021-08-23T13:41:13.230330",
     "status": "completed"
    },
    "tags": []
   },
   "source": [
    "<a id=\"4_a\"></a>\n",
    "##  a) Creating  dummies for categorical features"
   ]
  },
  {
   "cell_type": "markdown",
   "metadata": {
    "papermill": {
     "duration": 0.03997,
     "end_time": "2021-08-23T13:41:13.350231",
     "exception": false,
     "start_time": "2021-08-23T13:41:13.310261",
     "status": "completed"
    },
    "tags": []
   },
   "source": [
    "Dropping Car_Name column"
   ]
  },
  {
   "cell_type": "code",
   "execution_count": 22,
   "metadata": {
    "execution": {
     "iopub.execute_input": "2021-08-23T13:41:13.436400Z",
     "iopub.status.busy": "2021-08-23T13:41:13.435798Z",
     "iopub.status.idle": "2021-08-23T13:41:13.437682Z",
     "shell.execute_reply": "2021-08-23T13:41:13.438071Z"
    },
    "papermill": {
     "duration": 0.047712,
     "end_time": "2021-08-23T13:41:13.438211",
     "exception": false,
     "start_time": "2021-08-23T13:41:13.390499",
     "status": "completed"
    },
    "tags": []
   },
   "outputs": [],
   "source": [
    "df_main.drop(labels='Car_Name',axis= 1, inplace = True)"
   ]
  },
  {
   "cell_type": "markdown",
   "metadata": {
    "papermill": {
     "duration": 0.040524,
     "end_time": "2021-08-23T13:41:13.519580",
     "exception": false,
     "start_time": "2021-08-23T13:41:13.479056",
     "status": "completed"
    },
    "tags": []
   },
   "source": [
    "Converting categorical columns into integers using 1-hot encoding."
   ]
  },
  {
   "cell_type": "code",
   "execution_count": 23,
   "metadata": {
    "execution": {
     "iopub.execute_input": "2021-08-23T13:41:13.603628Z",
     "iopub.status.busy": "2021-08-23T13:41:13.603073Z",
     "iopub.status.idle": "2021-08-23T13:41:13.615920Z",
     "shell.execute_reply": "2021-08-23T13:41:13.615458Z"
    },
    "papermill": {
     "duration": 0.0561,
     "end_time": "2021-08-23T13:41:13.616037",
     "exception": false,
     "start_time": "2021-08-23T13:41:13.559937",
     "status": "completed"
    },
    "tags": []
   },
   "outputs": [
    {
     "data": {
      "text/html": [
       "<div>\n",
       "<style scoped>\n",
       "    .dataframe tbody tr th:only-of-type {\n",
       "        vertical-align: middle;\n",
       "    }\n",
       "\n",
       "    .dataframe tbody tr th {\n",
       "        vertical-align: top;\n",
       "    }\n",
       "\n",
       "    .dataframe thead th {\n",
       "        text-align: right;\n",
       "    }\n",
       "</style>\n",
       "<table border=\"1\" class=\"dataframe\">\n",
       "  <thead>\n",
       "    <tr style=\"text-align: right;\">\n",
       "      <th></th>\n",
       "      <th>Selling_Price(lacs)</th>\n",
       "      <th>Present_Price(lacs)</th>\n",
       "      <th>Kms_Driven</th>\n",
       "      <th>Fuel_Type</th>\n",
       "      <th>Seller_Type</th>\n",
       "      <th>Transmission</th>\n",
       "      <th>Past_Owners</th>\n",
       "      <th>Age</th>\n",
       "    </tr>\n",
       "  </thead>\n",
       "  <tbody>\n",
       "    <tr>\n",
       "      <th>0</th>\n",
       "      <td>3.35</td>\n",
       "      <td>5.59</td>\n",
       "      <td>27000</td>\n",
       "      <td>Petrol</td>\n",
       "      <td>Dealer</td>\n",
       "      <td>Manual</td>\n",
       "      <td>0</td>\n",
       "      <td>6</td>\n",
       "    </tr>\n",
       "    <tr>\n",
       "      <th>1</th>\n",
       "      <td>4.75</td>\n",
       "      <td>9.54</td>\n",
       "      <td>43000</td>\n",
       "      <td>Diesel</td>\n",
       "      <td>Dealer</td>\n",
       "      <td>Manual</td>\n",
       "      <td>0</td>\n",
       "      <td>7</td>\n",
       "    </tr>\n",
       "    <tr>\n",
       "      <th>2</th>\n",
       "      <td>7.25</td>\n",
       "      <td>9.85</td>\n",
       "      <td>6900</td>\n",
       "      <td>Petrol</td>\n",
       "      <td>Dealer</td>\n",
       "      <td>Manual</td>\n",
       "      <td>0</td>\n",
       "      <td>3</td>\n",
       "    </tr>\n",
       "    <tr>\n",
       "      <th>3</th>\n",
       "      <td>2.85</td>\n",
       "      <td>4.15</td>\n",
       "      <td>5200</td>\n",
       "      <td>Petrol</td>\n",
       "      <td>Dealer</td>\n",
       "      <td>Manual</td>\n",
       "      <td>0</td>\n",
       "      <td>9</td>\n",
       "    </tr>\n",
       "    <tr>\n",
       "      <th>4</th>\n",
       "      <td>4.60</td>\n",
       "      <td>6.87</td>\n",
       "      <td>42450</td>\n",
       "      <td>Diesel</td>\n",
       "      <td>Dealer</td>\n",
       "      <td>Manual</td>\n",
       "      <td>0</td>\n",
       "      <td>6</td>\n",
       "    </tr>\n",
       "  </tbody>\n",
       "</table>\n",
       "</div>"
      ],
      "text/plain": [
       "   Selling_Price(lacs)  Present_Price(lacs)  Kms_Driven Fuel_Type Seller_Type  \\\n",
       "0                 3.35                 5.59       27000    Petrol      Dealer   \n",
       "1                 4.75                 9.54       43000    Diesel      Dealer   \n",
       "2                 7.25                 9.85        6900    Petrol      Dealer   \n",
       "3                 2.85                 4.15        5200    Petrol      Dealer   \n",
       "4                 4.60                 6.87       42450    Diesel      Dealer   \n",
       "\n",
       "  Transmission  Past_Owners  Age  \n",
       "0       Manual            0    6  \n",
       "1       Manual            0    7  \n",
       "2       Manual            0    3  \n",
       "3       Manual            0    9  \n",
       "4       Manual            0    6  "
      ]
     },
     "execution_count": 23,
     "metadata": {},
     "output_type": "execute_result"
    }
   ],
   "source": [
    "df_main.head()"
   ]
  },
  {
   "cell_type": "code",
   "execution_count": 24,
   "metadata": {
    "execution": {
     "iopub.execute_input": "2021-08-23T13:41:13.707647Z",
     "iopub.status.busy": "2021-08-23T13:41:13.706970Z",
     "iopub.status.idle": "2021-08-23T13:41:13.710838Z",
     "shell.execute_reply": "2021-08-23T13:41:13.711307Z",
     "shell.execute_reply.started": "2021-08-23T12:51:02.776155Z"
    },
    "papermill": {
     "duration": 0.053723,
     "end_time": "2021-08-23T13:41:13.711452",
     "exception": false,
     "start_time": "2021-08-23T13:41:13.657729",
     "status": "completed"
    },
    "tags": []
   },
   "outputs": [],
   "source": [
    "df_main = pd.get_dummies(data = df_main,drop_first=True) \n",
    "# drop_first is set to True, to avoid \"Dummy Trap\""
   ]
  },
  {
   "cell_type": "code",
   "execution_count": 25,
   "metadata": {
    "execution": {
     "iopub.execute_input": "2021-08-23T13:41:13.828526Z",
     "iopub.status.busy": "2021-08-23T13:41:13.827775Z",
     "iopub.status.idle": "2021-08-23T13:41:13.844000Z",
     "shell.execute_reply": "2021-08-23T13:41:13.843387Z",
     "shell.execute_reply.started": "2021-08-23T12:51:06.250998Z"
    },
    "papermill": {
     "duration": 0.077913,
     "end_time": "2021-08-23T13:41:13.844113",
     "exception": false,
     "start_time": "2021-08-23T13:41:13.766200",
     "status": "completed"
    },
    "tags": []
   },
   "outputs": [
    {
     "data": {
      "text/html": [
       "<div>\n",
       "<style scoped>\n",
       "    .dataframe tbody tr th:only-of-type {\n",
       "        vertical-align: middle;\n",
       "    }\n",
       "\n",
       "    .dataframe tbody tr th {\n",
       "        vertical-align: top;\n",
       "    }\n",
       "\n",
       "    .dataframe thead th {\n",
       "        text-align: right;\n",
       "    }\n",
       "</style>\n",
       "<table border=\"1\" class=\"dataframe\">\n",
       "  <thead>\n",
       "    <tr style=\"text-align: right;\">\n",
       "      <th></th>\n",
       "      <th>Selling_Price(lacs)</th>\n",
       "      <th>Present_Price(lacs)</th>\n",
       "      <th>Kms_Driven</th>\n",
       "      <th>Past_Owners</th>\n",
       "      <th>Age</th>\n",
       "      <th>Fuel_Type_Diesel</th>\n",
       "      <th>Fuel_Type_Petrol</th>\n",
       "      <th>Seller_Type_Individual</th>\n",
       "      <th>Transmission_Manual</th>\n",
       "    </tr>\n",
       "  </thead>\n",
       "  <tbody>\n",
       "    <tr>\n",
       "      <th>0</th>\n",
       "      <td>3.35</td>\n",
       "      <td>5.59</td>\n",
       "      <td>27000</td>\n",
       "      <td>0</td>\n",
       "      <td>6</td>\n",
       "      <td>0</td>\n",
       "      <td>1</td>\n",
       "      <td>0</td>\n",
       "      <td>1</td>\n",
       "    </tr>\n",
       "    <tr>\n",
       "      <th>1</th>\n",
       "      <td>4.75</td>\n",
       "      <td>9.54</td>\n",
       "      <td>43000</td>\n",
       "      <td>0</td>\n",
       "      <td>7</td>\n",
       "      <td>1</td>\n",
       "      <td>0</td>\n",
       "      <td>0</td>\n",
       "      <td>1</td>\n",
       "    </tr>\n",
       "    <tr>\n",
       "      <th>2</th>\n",
       "      <td>7.25</td>\n",
       "      <td>9.85</td>\n",
       "      <td>6900</td>\n",
       "      <td>0</td>\n",
       "      <td>3</td>\n",
       "      <td>0</td>\n",
       "      <td>1</td>\n",
       "      <td>0</td>\n",
       "      <td>1</td>\n",
       "    </tr>\n",
       "    <tr>\n",
       "      <th>3</th>\n",
       "      <td>2.85</td>\n",
       "      <td>4.15</td>\n",
       "      <td>5200</td>\n",
       "      <td>0</td>\n",
       "      <td>9</td>\n",
       "      <td>0</td>\n",
       "      <td>1</td>\n",
       "      <td>0</td>\n",
       "      <td>1</td>\n",
       "    </tr>\n",
       "    <tr>\n",
       "      <th>4</th>\n",
       "      <td>4.60</td>\n",
       "      <td>6.87</td>\n",
       "      <td>42450</td>\n",
       "      <td>0</td>\n",
       "      <td>6</td>\n",
       "      <td>1</td>\n",
       "      <td>0</td>\n",
       "      <td>0</td>\n",
       "      <td>1</td>\n",
       "    </tr>\n",
       "  </tbody>\n",
       "</table>\n",
       "</div>"
      ],
      "text/plain": [
       "   Selling_Price(lacs)  Present_Price(lacs)  Kms_Driven  Past_Owners  Age  \\\n",
       "0                 3.35                 5.59       27000            0    6   \n",
       "1                 4.75                 9.54       43000            0    7   \n",
       "2                 7.25                 9.85        6900            0    3   \n",
       "3                 2.85                 4.15        5200            0    9   \n",
       "4                 4.60                 6.87       42450            0    6   \n",
       "\n",
       "   Fuel_Type_Diesel  Fuel_Type_Petrol  Seller_Type_Individual  \\\n",
       "0                 0                 1                       0   \n",
       "1                 1                 0                       0   \n",
       "2                 0                 1                       0   \n",
       "3                 0                 1                       0   \n",
       "4                 1                 0                       0   \n",
       "\n",
       "   Transmission_Manual  \n",
       "0                    1  \n",
       "1                    1  \n",
       "2                    1  \n",
       "3                    1  \n",
       "4                    1  "
      ]
     },
     "execution_count": 25,
     "metadata": {},
     "output_type": "execute_result"
    }
   ],
   "source": [
    "df_main.head()"
   ]
  },
  {
   "cell_type": "markdown",
   "metadata": {
    "papermill": {
     "duration": 0.041174,
     "end_time": "2021-08-23T13:41:13.928077",
     "exception": false,
     "start_time": "2021-08-23T13:41:13.886903",
     "status": "completed"
    },
    "tags": []
   },
   "source": [
    "<a id=\"4_b\"></a>\n",
    "## b) Performing Train-Test Split"
   ]
  },
  {
   "cell_type": "code",
   "execution_count": 26,
   "metadata": {
    "execution": {
     "iopub.execute_input": "2021-08-23T13:41:14.018659Z",
     "iopub.status.busy": "2021-08-23T13:41:14.017993Z",
     "iopub.status.idle": "2021-08-23T13:41:14.020990Z",
     "shell.execute_reply": "2021-08-23T13:41:14.020479Z",
     "shell.execute_reply.started": "2021-08-23T12:55:01.358420Z"
    },
    "papermill": {
     "duration": 0.050913,
     "end_time": "2021-08-23T13:41:14.021095",
     "exception": false,
     "start_time": "2021-08-23T13:41:13.970182",
     "status": "completed"
    },
    "tags": []
   },
   "outputs": [],
   "source": [
    "# Separating target variable and its features\n",
    "y = df_main['Selling_Price(lacs)']\n",
    "X = df_main.drop('Selling_Price(lacs)',axis=1)"
   ]
  },
  {
   "cell_type": "code",
   "execution_count": 27,
   "metadata": {
    "execution": {
     "iopub.execute_input": "2021-08-23T13:41:14.107790Z",
     "iopub.status.busy": "2021-08-23T13:41:14.106875Z",
     "iopub.status.idle": "2021-08-23T13:41:14.214762Z",
     "shell.execute_reply": "2021-08-23T13:41:14.214140Z"
    },
    "papermill": {
     "duration": 0.151834,
     "end_time": "2021-08-23T13:41:14.214877",
     "exception": false,
     "start_time": "2021-08-23T13:41:14.063043",
     "status": "completed"
    },
    "tags": []
   },
   "outputs": [],
   "source": [
    "from sklearn.model_selection import train_test_split"
   ]
  },
  {
   "cell_type": "code",
   "execution_count": 28,
   "metadata": {
    "execution": {
     "iopub.execute_input": "2021-08-23T13:41:14.306962Z",
     "iopub.status.busy": "2021-08-23T13:41:14.305924Z",
     "iopub.status.idle": "2021-08-23T13:41:14.310916Z",
     "shell.execute_reply": "2021-08-23T13:41:14.310094Z",
     "shell.execute_reply.started": "2021-08-23T12:57:32.094782Z"
    },
    "papermill": {
     "duration": 0.054193,
     "end_time": "2021-08-23T13:41:14.311050",
     "exception": false,
     "start_time": "2021-08-23T13:41:14.256857",
     "status": "completed"
    },
    "scrolled": true,
    "tags": []
   },
   "outputs": [
    {
     "name": "stdout",
     "output_type": "stream",
     "text": [
      "x train:  (240, 8)\n",
      "x test:  (61, 8)\n",
      "y train:  (240,)\n",
      "y test:  (61,)\n"
     ]
    }
   ],
   "source": [
    "X_train, X_test, y_train, y_test = train_test_split(X, y, test_size=0.2, random_state=1)\n",
    "print(\"x train: \",X_train.shape)\n",
    "print(\"x test: \",X_test.shape)\n",
    "print(\"y train: \",y_train.shape)\n",
    "print(\"y test: \",y_test.shape)\n",
    "\n"
   ]
  },
  {
   "cell_type": "markdown",
   "metadata": {
    "papermill": {
     "duration": 0.04152,
     "end_time": "2021-08-23T13:41:14.394561",
     "exception": false,
     "start_time": "2021-08-23T13:41:14.353041",
     "status": "completed"
    },
    "tags": []
   },
   "source": [
    "<a id=\"5\"></a>\n",
    "# 5. Model Creation/Evaluation"
   ]
  },
  {
   "cell_type": "markdown",
   "metadata": {
    "papermill": {
     "duration": 0.041429,
     "end_time": "2021-08-23T13:41:14.477507",
     "exception": false,
     "start_time": "2021-08-23T13:41:14.436078",
     "status": "completed"
    },
    "tags": []
   },
   "source": [
    "## a) Applying regression models\n",
    "- Linear Regression (OLS)\n",
    "- Ridge Regression\n",
    "- Lasso Regression\n",
    "- Random Forest Regression\n",
    "- Gradient Boosting regression"
   ]
  },
  {
   "cell_type": "code",
   "execution_count": 29,
   "metadata": {
    "execution": {
     "iopub.execute_input": "2021-08-23T13:41:14.565832Z",
     "iopub.status.busy": "2021-08-23T13:41:14.565171Z",
     "iopub.status.idle": "2021-08-23T13:41:14.568022Z",
     "shell.execute_reply": "2021-08-23T13:41:14.567497Z"
    },
    "papermill": {
     "duration": 0.048795,
     "end_time": "2021-08-23T13:41:14.568123",
     "exception": false,
     "start_time": "2021-08-23T13:41:14.519328",
     "status": "completed"
    },
    "tags": []
   },
   "outputs": [],
   "source": [
    "from sklearn.metrics import r2_score\n",
    "from sklearn.model_selection import cross_val_score"
   ]
  },
  {
   "cell_type": "code",
   "execution_count": 30,
   "metadata": {
    "execution": {
     "iopub.execute_input": "2021-08-23T13:41:14.663834Z",
     "iopub.status.busy": "2021-08-23T13:41:14.659400Z",
     "iopub.status.idle": "2021-08-23T13:41:14.666446Z",
     "shell.execute_reply": "2021-08-23T13:41:14.666879Z",
     "shell.execute_reply.started": "2021-08-23T13:15:41.239541Z"
    },
    "papermill": {
     "duration": 0.057147,
     "end_time": "2021-08-23T13:41:14.667045",
     "exception": false,
     "start_time": "2021-08-23T13:41:14.609898",
     "status": "completed"
    },
    "tags": []
   },
   "outputs": [],
   "source": [
    "CV = []\n",
    "R2_train = []\n",
    "R2_test = []\n",
    "\n",
    "def car_pred_model(model,model_name):\n",
    "    # Training model\n",
    "    model.fit(X_train,y_train)\n",
    "            \n",
    "    # R2 score of train set\n",
    "    y_pred_train = model.predict(X_train)\n",
    "    R2_train_model = r2_score(y_train,y_pred_train)\n",
    "    R2_train.append(round(R2_train_model,2))\n",
    "    \n",
    "    # R2 score of test set\n",
    "    y_pred_test = model.predict(X_test)\n",
    "    R2_test_model = r2_score(y_test,y_pred_test)\n",
    "    R2_test.append(round(R2_test_model,2)) \n",
    "    \n",
    "    # R2 mean of train set using Cross validation\n",
    "    cross_val = cross_val_score(model ,X_train ,y_train ,cv=5)\n",
    "    cv_mean = cross_val.mean()\n",
    "    CV.append(round(cv_mean,2))\n",
    "    \n",
    "    # Printing results\n",
    "    print(\"Train R2-score :\",round(R2_train_model,2))\n",
    "    print(\"Test R2-score :\",round(R2_test_model,2))\n",
    "    print(\"Train CV scores :\",cross_val)\n",
    "    print(\"Train CV mean :\",round(cv_mean,2))\n",
    "    \n",
    "    # Plotting Graphs \n",
    "    # Residual Plot of train data\n",
    "    fig, ax = plt.subplots(1,2,figsize = (10,4))\n",
    "    ax[0].set_title('Residual Plot of Train samples')\n",
    "    sns.distplot((y_train-y_pred_train),hist = False,ax = ax[0])\n",
    "    ax[0].set_xlabel('y_train - y_pred_train')\n",
    "    \n",
    "    # Y_test vs Y_train scatter plot\n",
    "    ax[1].set_title('y_test vs y_pred_test')\n",
    "    ax[1].scatter(x = y_test, y = y_pred_test)\n",
    "    ax[1].set_xlabel('y_test')\n",
    "    ax[1].set_ylabel('y_pred_test')\n",
    "    \n",
    "    plt.show()"
   ]
  },
  {
   "cell_type": "markdown",
   "metadata": {
    "papermill": {
     "duration": 0.042253,
     "end_time": "2021-08-23T13:41:14.751552",
     "exception": false,
     "start_time": "2021-08-23T13:41:14.709299",
     "status": "completed"
    },
    "tags": []
   },
   "source": [
    "### 1) Standard Linear Regression or Ordinary Least Squares"
   ]
  },
  {
   "cell_type": "code",
   "execution_count": 31,
   "metadata": {
    "execution": {
     "iopub.execute_input": "2021-08-23T13:41:14.840474Z",
     "iopub.status.busy": "2021-08-23T13:41:14.839825Z",
     "iopub.status.idle": "2021-08-23T13:41:15.222394Z",
     "shell.execute_reply": "2021-08-23T13:41:15.221877Z",
     "shell.execute_reply.started": "2021-08-23T13:16:32.751888Z"
    },
    "papermill": {
     "duration": 0.428581,
     "end_time": "2021-08-23T13:41:15.222507",
     "exception": false,
     "start_time": "2021-08-23T13:41:14.793926",
     "status": "completed"
    },
    "tags": []
   },
   "outputs": [
    {
     "name": "stdout",
     "output_type": "stream",
     "text": [
      "Train R2-score : 0.88\n",
      "Test R2-score : 0.86\n",
      "Train CV scores : [0.89912189 0.89838688 0.82980069 0.81769076 0.76113925]\n",
      "Train CV mean : 0.84\n"
     ]
    },
    {
     "data": {
      "image/png": "[encoded data removed]",
      "text/plain": [
       "<Figure size 720x288 with 2 Axes>"
      ]
     },
     "metadata": {},
     "output_type": "display_data"
    }
   ],
   "source": [
    "from sklearn.linear_model import LinearRegression\n",
    "\n",
    "lr = LinearRegression()\n",
    "car_pred_model(lr,\"Linear_regressor.pkl\")"
   ]
  },
  {
   "cell_type": "markdown",
   "metadata": {
    "papermill": {
     "duration": 0.043057,
     "end_time": "2021-08-23T13:41:15.309047",
     "exception": false,
     "start_time": "2021-08-23T13:41:15.265990",
     "status": "completed"
    },
    "tags": []
   },
   "source": [
    "### 2) Ridge"
   ]
  },
  {
   "cell_type": "code",
   "execution_count": 32,
   "metadata": {
    "execution": {
     "iopub.execute_input": "2021-08-23T13:41:15.401623Z",
     "iopub.status.busy": "2021-08-23T13:41:15.400934Z",
     "iopub.status.idle": "2021-08-23T13:41:15.403815Z",
     "shell.execute_reply": "2021-08-23T13:41:15.403363Z",
     "shell.execute_reply.started": "2021-08-23T13:18:06.920352Z"
    },
    "papermill": {
     "duration": 0.051613,
     "end_time": "2021-08-23T13:41:15.403928",
     "exception": false,
     "start_time": "2021-08-23T13:41:15.352315",
     "status": "completed"
    },
    "tags": []
   },
   "outputs": [],
   "source": [
    "from sklearn.linear_model import Ridge\n",
    "from sklearn.model_selection import RandomizedSearchCV\n",
    "\n",
    "# Creating Ridge model object\n",
    "rg = Ridge()\n",
    "# range of alpha \n",
    "alpha = np.logspace(-3,3,num=14)\n",
    "\n",
    "# Creating RandomizedSearchCV to find the best estimator of hyperparameter\n",
    "rg_rs = RandomizedSearchCV(estimator = rg, param_distributions = dict(alpha=alpha))"
   ]
  },
  {
   "cell_type": "code",
   "execution_count": 33,
   "metadata": {
    "execution": {
     "iopub.execute_input": "2021-08-23T13:41:15.502784Z",
     "iopub.status.busy": "2021-08-23T13:41:15.501999Z",
     "iopub.status.idle": "2021-08-23T13:41:17.238164Z",
     "shell.execute_reply": "2021-08-23T13:41:17.237585Z",
     "shell.execute_reply.started": "2021-08-23T13:18:09.906532Z"
    },
    "papermill": {
     "duration": 1.79129,
     "end_time": "2021-08-23T13:41:17.238290",
     "exception": false,
     "start_time": "2021-08-23T13:41:15.447000",
     "status": "completed"
    },
    "tags": []
   },
   "outputs": [
    {
     "name": "stdout",
     "output_type": "stream",
     "text": [
      "Train R2-score : 0.88\n",
      "Test R2-score : 0.86\n",
      "Train CV scores : [0.89910727 0.8983878  0.82980292 0.8176975  0.71854676]\n",
      "Train CV mean : 0.83\n"
     ]
    },
    {
     "data": {
      "image/png": "[encoded data removed]",
      "text/plain": [
       "<Figure size 720x288 with 2 Axes>"
      ]
     },
     "metadata": {},
     "output_type": "display_data"
    }
   ],
   "source": [
    "car_pred_model(rg_rs,\"ridge.pkl\")"
   ]
  },
  {
   "cell_type": "markdown",
   "metadata": {
    "papermill": {
     "duration": 0.04409,
     "end_time": "2021-08-23T13:41:17.326857",
     "exception": false,
     "start_time": "2021-08-23T13:41:17.282767",
     "status": "completed"
    },
    "tags": []
   },
   "source": [
    "### 3) Lasso"
   ]
  },
  {
   "cell_type": "code",
   "execution_count": 34,
   "metadata": {
    "execution": {
     "iopub.execute_input": "2021-08-23T13:41:17.421883Z",
     "iopub.status.busy": "2021-08-23T13:41:17.421157Z",
     "iopub.status.idle": "2021-08-23T13:41:17.423938Z",
     "shell.execute_reply": "2021-08-23T13:41:17.423489Z"
    },
    "papermill": {
     "duration": 0.052611,
     "end_time": "2021-08-23T13:41:17.424050",
     "exception": false,
     "start_time": "2021-08-23T13:41:17.371439",
     "status": "completed"
    },
    "tags": []
   },
   "outputs": [],
   "source": [
    "from sklearn.linear_model import Lasso\n",
    "from sklearn.model_selection import RandomizedSearchCV\n",
    "\n",
    "ls = Lasso()\n",
    "alpha = np.logspace(-3,3,num=14) # range for alpha\n",
    "\n",
    "ls_rs = RandomizedSearchCV(estimator = ls, param_distributions = dict(alpha=alpha))"
   ]
  },
  {
   "cell_type": "code",
   "execution_count": 35,
   "metadata": {
    "execution": {
     "iopub.execute_input": "2021-08-23T13:41:17.526763Z",
     "iopub.status.busy": "2021-08-23T13:41:17.526071Z",
     "iopub.status.idle": "2021-08-23T13:41:19.364648Z",
     "shell.execute_reply": "2021-08-23T13:41:19.364043Z"
    },
    "papermill": {
     "duration": 1.896334,
     "end_time": "2021-08-23T13:41:19.364757",
     "exception": false,
     "start_time": "2021-08-23T13:41:17.468423",
     "status": "completed"
    },
    "tags": []
   },
   "outputs": [
    {
     "name": "stdout",
     "output_type": "stream",
     "text": [
      "Train R2-score : 0.88\n",
      "Test R2-score : 0.87\n",
      "Train CV scores : [0.8990973  0.90160215 0.83069745 0.81785432 0.73120322]\n",
      "Train CV mean : 0.84\n"
     ]
    },
    {
     "data": {
      "image/png": "[encoded data removed]",
      "text/plain": [
       "<Figure size 720x288 with 2 Axes>"
      ]
     },
     "metadata": {},
     "output_type": "display_data"
    }
   ],
   "source": [
    "car_pred_model(ls_rs,\"lasso.pkl\")"
   ]
  },
  {
   "cell_type": "markdown",
   "metadata": {
    "papermill": {
     "duration": 0.047278,
     "end_time": "2021-08-23T13:41:19.458114",
     "exception": false,
     "start_time": "2021-08-23T13:41:19.410836",
     "status": "completed"
    },
    "tags": []
   },
   "source": [
    "### 4) Random Forest"
   ]
  },
  {
   "cell_type": "code",
   "execution_count": 36,
   "metadata": {
    "execution": {
     "iopub.execute_input": "2021-08-23T13:41:19.557483Z",
     "iopub.status.busy": "2021-08-23T13:41:19.556739Z",
     "iopub.status.idle": "2021-08-23T13:41:19.667090Z",
     "shell.execute_reply": "2021-08-23T13:41:19.666382Z"
    },
    "papermill": {
     "duration": 0.163232,
     "end_time": "2021-08-23T13:41:19.667208",
     "exception": false,
     "start_time": "2021-08-23T13:41:19.503976",
     "status": "completed"
    },
    "tags": []
   },
   "outputs": [],
   "source": [
    "from sklearn.ensemble import RandomForestRegressor\n",
    "from sklearn.model_selection import RandomizedSearchCV\n",
    "\n",
    "rf = RandomForestRegressor()\n",
    "\n",
    "# Number of trees in Random forest\n",
    "n_estimators=list(range(500,1000,100))\n",
    "# Maximum number of levels in a tree\n",
    "max_depth=list(range(4,9,4))\n",
    "# Minimum number of samples required to split an internal node\n",
    "min_samples_split=list(range(4,9,2))\n",
    "# Minimum number of samples required to be at a leaf node.\n",
    "min_samples_leaf=[1,2,5,7]\n",
    "# Number of fearures to be considered at each split\n",
    "max_features=['auto','sqrt']\n",
    "\n",
    "# Hyperparameters dict\n",
    "param_grid = {\"n_estimators\":n_estimators,\n",
    "              \"max_depth\":max_depth,\n",
    "              \"min_samples_split\":min_samples_split,\n",
    "              \"min_samples_leaf\":min_samples_leaf,\n",
    "              \"max_features\":max_features}\n",
    "\n",
    "rf_rs = RandomizedSearchCV(estimator = rf, param_distributions = param_grid)"
   ]
  },
  {
   "cell_type": "code",
   "execution_count": 37,
   "metadata": {
    "execution": {
     "iopub.execute_input": "2021-08-23T13:41:19.779212Z",
     "iopub.status.busy": "2021-08-23T13:41:19.773950Z",
     "iopub.status.idle": "2021-08-23T13:45:54.328215Z",
     "shell.execute_reply": "2021-08-23T13:45:54.328718Z"
    },
    "papermill": {
     "duration": 274.615189,
     "end_time": "2021-08-23T13:45:54.328896",
     "exception": false,
     "start_time": "2021-08-23T13:41:19.713707",
     "status": "completed"
    },
    "tags": []
   },
   "outputs": [
    {
     "name": "stdout",
     "output_type": "stream",
     "text": [
      "Train R2-score : 0.97\n",
      "Test R2-score : 0.85\n",
      "Train CV scores : [0.88167998 0.97231589 0.7795355  0.92964243 0.74465162]\n",
      "Train CV mean : 0.86\n"
     ]
    },
    {
     "data": {
      "image/png": "[encoded data removed]",
      "text/plain": [
       "<Figure size 720x288 with 2 Axes>"
      ]
     },
     "metadata": {},
     "output_type": "display_data"
    }
   ],
   "source": [
    "car_pred_model(rf_rs,'random_forest.pkl')"
   ]
  },
  {
   "cell_type": "markdown",
   "metadata": {
    "papermill": {
     "duration": 0.047279,
     "end_time": "2021-08-23T13:45:54.424090",
     "exception": false,
     "start_time": "2021-08-23T13:45:54.376811",
     "status": "completed"
    },
    "tags": []
   },
   "source": [
    "We can check best seletion of hyperparmeters for our model using below command."
   ]
  },
  {
   "cell_type": "code",
   "execution_count": 38,
   "metadata": {
    "execution": {
     "iopub.execute_input": "2021-08-23T13:45:54.524010Z",
     "iopub.status.busy": "2021-08-23T13:45:54.523335Z",
     "iopub.status.idle": "2021-08-23T13:45:54.530195Z",
     "shell.execute_reply": "2021-08-23T13:45:54.529701Z"
    },
    "papermill": {
     "duration": 0.058496,
     "end_time": "2021-08-23T13:45:54.530338",
     "exception": false,
     "start_time": "2021-08-23T13:45:54.471842",
     "status": "completed"
    },
    "tags": []
   },
   "outputs": [
    {
     "name": "stdout",
     "output_type": "stream",
     "text": [
      "RandomForestRegressor(max_depth=8, min_samples_leaf=2, min_samples_split=4,\n",
      "                      n_estimators=800)\n"
     ]
    }
   ],
   "source": [
    "print(rf_rs.best_estimator_)"
   ]
  },
  {
   "cell_type": "markdown",
   "metadata": {
    "papermill": {
     "duration": 0.047103,
     "end_time": "2021-08-23T13:45:54.625331",
     "exception": false,
     "start_time": "2021-08-23T13:45:54.578228",
     "status": "completed"
    },
    "tags": []
   },
   "source": [
    "### 5) Gradient Boosting"
   ]
  },
  {
   "cell_type": "code",
   "execution_count": 39,
   "metadata": {
    "execution": {
     "iopub.execute_input": "2021-08-23T13:45:54.728496Z",
     "iopub.status.busy": "2021-08-23T13:45:54.727899Z",
     "iopub.status.idle": "2021-08-23T13:45:54.730643Z",
     "shell.execute_reply": "2021-08-23T13:45:54.731102Z",
     "shell.execute_reply.started": "2021-08-23T13:34:49.284249Z"
    },
    "papermill": {
     "duration": 0.058463,
     "end_time": "2021-08-23T13:45:54.731248",
     "exception": false,
     "start_time": "2021-08-23T13:45:54.672785",
     "status": "completed"
    },
    "tags": []
   },
   "outputs": [],
   "source": [
    "from sklearn.ensemble import GradientBoostingRegressor\n",
    "from sklearn.model_selection import RandomizedSearchCV\n",
    "\n",
    "gb = GradientBoostingRegressor()\n",
    "\n",
    "# Rate at which correcting is being made\n",
    "learning_rate = [0.001, 0.01, 0.1, 0.2]\n",
    "# Number of trees in Gradient boosting\n",
    "n_estimators=list(range(500,1000,100))\n",
    "# Maximum number of levels in a tree\n",
    "max_depth=list(range(4,9,4))\n",
    "# Minimum number of samples required to split an internal node\n",
    "min_samples_split=list(range(4,9,2))\n",
    "# Minimum number of samples required to be at a leaf node.\n",
    "min_samples_leaf=[1,2,5,7]\n",
    "# Number of fearures to be considered at each split\n",
    "max_features=['auto','sqrt']\n",
    "\n",
    "# Hyperparameters dict\n",
    "param_grid = {\"learning_rate\":learning_rate,\n",
    "              \"n_estimators\":n_estimators,\n",
    "              \"max_depth\":max_depth,\n",
    "              \"min_samples_split\":min_samples_split,\n",
    "              \"min_samples_leaf\":min_samples_leaf,\n",
    "              \"max_features\":max_features}\n",
    "\n",
    "gb_rs = RandomizedSearchCV(estimator = gb, param_distributions = param_grid)"
   ]
  },
  {
   "cell_type": "code",
   "execution_count": 40,
   "metadata": {
    "execution": {
     "iopub.execute_input": "2021-08-23T13:45:54.840164Z",
     "iopub.status.busy": "2021-08-23T13:45:54.839169Z",
     "iopub.status.idle": "2021-08-23T13:47:15.194582Z",
     "shell.execute_reply": "2021-08-23T13:47:15.194097Z",
     "shell.execute_reply.started": "2021-08-23T13:34:55.586315Z"
    },
    "papermill": {
     "duration": 80.414227,
     "end_time": "2021-08-23T13:47:15.194692",
     "exception": false,
     "start_time": "2021-08-23T13:45:54.780465",
     "status": "completed"
    },
    "tags": []
   },
   "outputs": [
    {
     "name": "stdout",
     "output_type": "stream",
     "text": [
      "Train R2-score : 1.0\n",
      "Test R2-score : 0.74\n",
      "Train CV scores : [0.94689504 0.91729309 0.889394   0.94319327 0.65835816]\n",
      "Train CV mean : 0.87\n"
     ]
    },
    {
     "data": {
      "image/png": "[encoded data removed]",
      "text/plain": [
       "<Figure size 720x288 with 2 Axes>"
      ]
     },
     "metadata": {},
     "output_type": "display_data"
    }
   ],
   "source": [
    "car_pred_model(gb_rs,\"gradient_boosting.pkl\")"
   ]
  },
  {
   "cell_type": "code",
   "execution_count": 41,
   "metadata": {
    "execution": {
     "iopub.execute_input": "2021-08-23T13:47:15.303771Z",
     "iopub.status.busy": "2021-08-23T13:47:15.300318Z",
     "iopub.status.idle": "2021-08-23T13:47:15.309715Z",
     "shell.execute_reply": "2021-08-23T13:47:15.309204Z",
     "shell.execute_reply.started": "2021-08-23T13:39:24.128333Z"
    },
    "papermill": {
     "duration": 0.066374,
     "end_time": "2021-08-23T13:47:15.309831",
     "exception": false,
     "start_time": "2021-08-23T13:47:15.243457",
     "status": "completed"
    },
    "scrolled": true,
    "tags": []
   },
   "outputs": [
    {
     "data": {
      "text/html": [
       "<div>\n",
       "<style scoped>\n",
       "    .dataframe tbody tr th:only-of-type {\n",
       "        vertical-align: middle;\n",
       "    }\n",
       "\n",
       "    .dataframe tbody tr th {\n",
       "        vertical-align: top;\n",
       "    }\n",
       "\n",
       "    .dataframe thead th {\n",
       "        text-align: right;\n",
       "    }\n",
       "</style>\n",
       "<table border=\"1\" class=\"dataframe\">\n",
       "  <thead>\n",
       "    <tr style=\"text-align: right;\">\n",
       "      <th></th>\n",
       "      <th>Model</th>\n",
       "      <th>R Squared(Train)</th>\n",
       "      <th>R Squared(Test)</th>\n",
       "      <th>CV score mean(Train)</th>\n",
       "    </tr>\n",
       "  </thead>\n",
       "  <tbody>\n",
       "    <tr>\n",
       "      <th>0</th>\n",
       "      <td>LinearRegression</td>\n",
       "      <td>0.88</td>\n",
       "      <td>0.86</td>\n",
       "      <td>0.84</td>\n",
       "    </tr>\n",
       "    <tr>\n",
       "      <th>1</th>\n",
       "      <td>Ridge</td>\n",
       "      <td>0.88</td>\n",
       "      <td>0.86</td>\n",
       "      <td>0.83</td>\n",
       "    </tr>\n",
       "    <tr>\n",
       "      <th>2</th>\n",
       "      <td>Lasso</td>\n",
       "      <td>0.88</td>\n",
       "      <td>0.87</td>\n",
       "      <td>0.84</td>\n",
       "    </tr>\n",
       "    <tr>\n",
       "      <th>3</th>\n",
       "      <td>RandomForestRegressor</td>\n",
       "      <td>0.97</td>\n",
       "      <td>0.85</td>\n",
       "      <td>0.86</td>\n",
       "    </tr>\n",
       "    <tr>\n",
       "      <th>4</th>\n",
       "      <td>GradientBoostingRegressor</td>\n",
       "      <td>1.00</td>\n",
       "      <td>0.74</td>\n",
       "      <td>0.87</td>\n",
       "    </tr>\n",
       "  </tbody>\n",
       "</table>\n",
       "</div>"
      ],
      "text/plain": [
       "                       Model  R Squared(Train)  R Squared(Test)  \\\n",
       "0           LinearRegression              0.88             0.86   \n",
       "1                      Ridge              0.88             0.86   \n",
       "2                      Lasso              0.88             0.87   \n",
       "3      RandomForestRegressor              0.97             0.85   \n",
       "4  GradientBoostingRegressor              1.00             0.74   \n",
       "\n",
       "   CV score mean(Train)  \n",
       "0                  0.84  \n",
       "1                  0.83  \n",
       "2                  0.84  \n",
       "3                  0.86  \n",
       "4                  0.87  "
      ]
     },
     "metadata": {},
     "output_type": "display_data"
    }
   ],
   "source": [
    "Technique = [\"LinearRegression\",\"Ridge\",\"Lasso\",\"RandomForestRegressor\",\"GradientBoostingRegressor\"]\n",
    "results=pd.DataFrame({'Model': Technique,'R Squared(Train)': R2_train,'R Squared(Test)': R2_test,'CV score mean(Train)': CV})\n",
    "display(results)"
   ]
  },
  {
   "cell_type": "markdown",
   "metadata": {
    "papermill": {
     "duration": 0.049373,
     "end_time": "2021-08-23T13:47:15.409086",
     "exception": false,
     "start_time": "2021-08-23T13:47:15.359713",
     "status": "completed"
    },
    "tags": []
   },
   "source": [
    "<a id=\"6\"></a>\n",
    "# Conclusion:\n",
    "\n",
    "- Present price and resale price are highly correlated, as observed in EDA.\n",
    "- Age of the vehicle seems to show negative correlation with selling price.\n",
    "- Past_Owners and Kms_Driven are showing very less correlation with selling price.\n",
    "- Automatic vehicles fetch higher resale price compared to manual ones.\n",
    "- Ensemble techniques like Random Forest and Gradient Boosting produce better results than linear models, however they have more tendency to overfit."
   ]
  },
  {
   "cell_type": "markdown",
   "metadata": {
    "papermill": {
     "duration": 0.049211,
     "end_time": "2021-08-23T13:47:15.508445",
     "exception": false,
     "start_time": "2021-08-23T13:47:15.459234",
     "status": "completed"
    },
    "tags": []
   },
   "source": [
    "#### Thanks for reading !! \n",
    "\n",
    "\n",
    "- Addition to this you can also check my github repository, where i have created an end-to-end ML Project using above dataset and deployed it on cloud.\n",
    " \n",
    " LinK : https://github.com/rppradhan08/Car_Price_Prediction\n",
    "\n",
    "- Please do share your feedback."
   ]
  }
 ],
 "metadata": {
  "kernelspec": {
   "display_name": "Python 3",
   "language": "python",
   "name": "python3"
  },
  "language_info": {
   "codemirror_mode": {
    "name": "ipython",
    "version": 3
   },
   "file_extension": ".py",
   "mimetype": "text/x-python",
   "name": "python",
   "nbconvert_exporter": "python",
   "pygments_lexer": "ipython3",
   "version": "3.7.6"
  },
  "papermill": {
   "duration": 371.907094,
   "end_time": "2021-08-23T13:47:15.664898",
   "environment_variables": {},
   "exception": null,
   "input_path": "__notebook__.ipynb",
   "output_path": "__notebook__.ipynb",
   "parameters": {},
   "start_time": "2021-08-23T13:41:03.757804",
   "version": "2.1.0"
  }
 },
 "nbformat": 4,
 "nbformat_minor": 4
}
